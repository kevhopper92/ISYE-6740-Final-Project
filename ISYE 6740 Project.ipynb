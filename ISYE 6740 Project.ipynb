{
 "cells": [
  {
   "cell_type": "markdown",
   "id": "3d5f528a",
   "metadata": {},
   "source": [
    "## Import Modules and Establish environment"
   ]
  },
  {
   "cell_type": "code",
   "execution_count": 1,
   "id": "674db60b",
   "metadata": {},
   "outputs": [],
   "source": [
    "import os\n",
    "os.environ[\"OMP_NUM_THREADS\"] = \"2\"\n",
    "from sklearn.cluster import SpectralClustering\n",
    "\n",
    "import warnings\n",
    "\n",
    "# Suppress all warnings\n",
    "warnings.filterwarnings(\"ignore\")"
   ]
  },
  {
   "cell_type": "code",
   "execution_count": 2,
   "id": "d8c01a66",
   "metadata": {},
   "outputs": [],
   "source": [
    "import pandas as pd\n",
    "import os\n",
    "import glob\n",
    "import matplotlib.pyplot as plt\n",
    "import numpy as np\n",
    "from sklearn.cluster import SpectralClustering\n",
    "import geopandas as gpd\n",
    "import networkx as nx\n",
    "import matplotlib.dates as mdates"
   ]
  },
  {
   "cell_type": "markdown",
   "id": "ff407aad",
   "metadata": {},
   "source": [
    "## Import Data"
   ]
  },
  {
   "cell_type": "code",
   "execution_count": 3,
   "id": "67c2319b",
   "metadata": {},
   "outputs": [],
   "source": [
    "#Import Taxi Zones\n",
    "current_directory = os.getcwd()\n",
    "taxi_zone_path = os.path.join(\"Data Repo\", \"taxi-zone-lookup.csv\")\n",
    "taxi_zones = pd.read_csv(taxi_zone_path)"
   ]
  },
  {
   "cell_type": "code",
   "execution_count": 4,
   "id": "b9c69750",
   "metadata": {},
   "outputs": [],
   "source": [
    "#Load NYC Taxi Zones shapefile (used in the plots we'll make below)\n",
    "shp_path = os.path.join(\"Data Repo\", \"taxi_zones.shp\")\n",
    "zones_gdf = gpd.read_file(shp_path)"
   ]
  },
  {
   "cell_type": "markdown",
   "id": "00ba9195",
   "metadata": {},
   "source": [
    "### Define Function to Import Uber Rides"
   ]
  },
  {
   "cell_type": "code",
   "execution_count": 5,
   "id": "12c990a3",
   "metadata": {},
   "outputs": [],
   "source": [
    "import pandas as pd\n",
    "from tqdm import tqdm\n",
    "\n",
    "usecols = ['request_datetime', 'PULocationID', 'DOLocationID']\n",
    "\n",
    "#set low-memory dtypes\n",
    "dtypes = {\n",
    "    'PULocationID': 'uint16',\n",
    "    'DOLocationID': 'uint16'\n",
    "}\n",
    "\n",
    "datetime_format = \"%m/%d/%Y %I:%M:%S %p\"\n",
    "\n",
    "def load_large_csv_in_chunks(file_path, chunksize=500_000):\n",
    "    filtered_chunks = []\n",
    "\n",
    "    for chunk in tqdm(pd.read_csv(file_path,\n",
    "                                   usecols=usecols,\n",
    "                                   dtype=dtypes,\n",
    "                                   parse_dates=['request_datetime'],\n",
    "                                   date_format=datetime_format,\n",
    "                                   chunksize=chunksize),\n",
    "                      desc=\"Reading & filtering chunks\"):\n",
    "        #filter NYC rides (IDs 1–263)\n",
    "        chunk = chunk[(chunk['PULocationID'].between(1, 263)) &\n",
    "                      (chunk['DOLocationID'].between(1, 263))]\n",
    "        filtered_chunks.append(chunk)\n",
    "\n",
    "    df = pd.concat(filtered_chunks, ignore_index=True)\n",
    "    return df"
   ]
  },
  {
   "cell_type": "code",
   "execution_count": 6,
   "id": "e0d2b526",
   "metadata": {},
   "outputs": [
    {
     "name": "stderr",
     "output_type": "stream",
     "text": [
      "Reading & filtering chunks: 321it [51:12,  9.57s/it]\n"
     ]
    },
    {
     "name": "stdout",
     "output_type": "stream",
     "text": [
      "<class 'pandas.core.frame.DataFrame'>\n",
      "RangeIndex: 160346947 entries, 0 to 160346946\n",
      "Data columns (total 3 columns):\n",
      " #   Column            Dtype         \n",
      "---  ------            -----         \n",
      " 0   request_datetime  datetime64[ns]\n",
      " 1   PULocationID      uint16        \n",
      " 2   DOLocationID      uint16        \n",
      "dtypes: datetime64[ns](1), uint16(2)\n",
      "memory usage: 1.8 GB\n",
      "None\n",
      "     request_datetime  PULocationID  DOLocationID\n",
      "0 2023-01-01 23:21:31           211           263\n",
      "1 2023-01-03 15:06:54           132           263\n",
      "2 2023-01-02 00:00:34           142           263\n",
      "3 2023-01-02 19:07:38            74           263\n",
      "4 2023-01-02 12:22:42           239           263\n"
     ]
    }
   ],
   "source": [
    "mega_file = r'Data Repo/2023_High_Volume_FHV_Trip_Data.csv'\n",
    "df_2023 = load_large_csv_in_chunks(mega_file)\n",
    "\n",
    "print(df_2023.info())\n",
    "print(df_2023.head())"
   ]
  },
  {
   "cell_type": "markdown",
   "id": "7d2f6cb4",
   "metadata": {},
   "source": [
    "## EDA"
   ]
  },
  {
   "cell_type": "code",
   "execution_count": 7,
   "id": "bd98e2c7",
   "metadata": {
    "scrolled": true
   },
   "outputs": [],
   "source": [
    "#Historgram of rides over time\n",
    "df_2023[\"day_of_week\"] = df_2023[\"request_datetime\"].dt.day_name()\n",
    "df_2023[\"request_time_of_day\"] = df_2023[\"request_datetime\"].dt.hour + df_2023[\"request_datetime\"].dt.minute / 60"
   ]
  },
  {
   "cell_type": "code",
   "execution_count": 8,
   "id": "76160cb1",
   "metadata": {},
   "outputs": [
    {
     "data": {
      "image/png": "[encoded data removed]",
      "text/plain": [
       "<Figure size 800x500 with 1 Axes>"
      ]
     },
     "metadata": {},
     "output_type": "display_data"
    }
   ],
   "source": [
    "#Plot histogram\n",
    "plt.figure(figsize=(8, 5))\n",
    "plt.hist(df_2023[df_2023['day_of_week'].isin(['Monday', 'Tuesday', 'Wednesday', 'Thursday', 'Friday'])][\"request_time_of_day\"], bins=48, edgecolor=\"black\", alpha=0.7)\n",
    "plt.xlabel(\"Time of Day\")\n",
    "plt.ylabel(\"Number of Rides\")\n",
    "plt.title(\"Ride Requests On Weekdays\")\n",
    "plt.show()"
   ]
  },
  {
   "cell_type": "markdown",
   "id": "88fc6692",
   "metadata": {},
   "source": [
    "We notice two distinct peak times: the before work morning commute (7-10 am) and the after work commute (5-7:30)."
   ]
  },
  {
   "cell_type": "code",
   "execution_count": 9,
   "id": "4828c2f9",
   "metadata": {
    "scrolled": true
   },
   "outputs": [
    {
     "data": {
      "image/png": "[encoded data removed]",
      "text/plain": [
       "<Figure size 800x500 with 1 Axes>"
      ]
     },
     "metadata": {},
     "output_type": "display_data"
    }
   ],
   "source": [
    "#Plot histogram\n",
    "plt.figure(figsize=(8, 5))\n",
    "plt.hist(df_2023[df_2023['day_of_week'].isin(['Saturday', 'Sunday'])][\"request_time_of_day\"], bins=48, edgecolor=\"black\", alpha=0.7)\n",
    "plt.xlabel(\"Time of Day\")\n",
    "plt.ylabel(\"Number of Rides\")\n",
    "plt.title(\"Ride Requests On Weekends\")\n",
    "plt.show()"
   ]
  },
  {
   "cell_type": "markdown",
   "id": "11daa2c6",
   "metadata": {},
   "source": [
    "We see that there are two big spikes of rides: the rush hour to work, and when people are heading back from work for weekdays. On weekends, we see a much higher proportion of rides take place in the early morning hours and afternoon - prime entertainment hours!\n",
    "\n",
    "We'll investigate the difference between the spectral clusterings for weekdays vs weekends below, along with other time frames! This will help us understand how New Yorkers move move about the city on different days, holidays, and even times of the day!"
   ]
  },
  {
   "cell_type": "code",
   "execution_count": 10,
   "id": "37bbc906",
   "metadata": {},
   "outputs": [
    {
     "data": {
      "image/png": "[encoded data removed]",
      "text/plain": [
       "<Figure size 1400x600 with 1 Axes>"
      ]
     },
     "metadata": {},
     "output_type": "display_data"
    }
   ],
   "source": [
    "week_starts = df_2023['request_datetime'].dt.to_period('W').dt.start_time\n",
    "weekly_counts = week_starts.value_counts().sort_index()\n",
    "\n",
    "fig, ax = plt.subplots(figsize=(14, 6))\n",
    "\n",
    "ax.hist(\n",
    "    range(len(weekly_counts)), \n",
    "    bins=len(weekly_counts), \n",
    "    weights=weekly_counts.values,\n",
    "    edgecolor=\"black\",\n",
    "    alpha=0.7\n",
    ")\n",
    "\n",
    "ticks = range(len(weekly_counts))\n",
    "labels = weekly_counts.index\n",
    "\n",
    "custom_labels = []\n",
    "for date in labels:\n",
    "    if date.day <= 7:\n",
    "        custom_labels.append(date.strftime('%b'))\n",
    "    else:\n",
    "        custom_labels.append('')\n",
    "\n",
    "ax.set_xticks(ticks)\n",
    "ax.set_xticklabels(custom_labels, rotation=0, ha='center')\n",
    "\n",
    "plt.xlabel('Month')\n",
    "plt.ylabel('Number of Rides')\n",
    "plt.title('2023 NYC Taxi Ride Requests (By Week)')\n",
    "plt.tight_layout()\n",
    "plt.show()"
   ]
  },
  {
   "cell_type": "markdown",
   "id": "c866665e",
   "metadata": {},
   "source": [
    "# Create Functions"
   ]
  },
  {
   "cell_type": "markdown",
   "id": "ed354893",
   "metadata": {},
   "source": [
    "These below functions will be called as we create spectral clustering visualizations for NYC in different time windows"
   ]
  },
  {
   "cell_type": "markdown",
   "id": "e0a71018",
   "metadata": {},
   "source": [
    "### Create adjacency matrix"
   ]
  },
  {
   "cell_type": "code",
   "execution_count": 11,
   "id": "6a39d276",
   "metadata": {},
   "outputs": [],
   "source": [
    "def adjacency_matrix(df, num_locations=263): #263 taxi zones\n",
    "    adj_matrix = np.zeros((num_locations, num_locations), dtype=int)\n",
    "    pu_locations = df['PULocationID'].to_numpy()\n",
    "    do_locations = df['DOLocationID'].to_numpy()\n",
    "\n",
    "    pu_locations -= 1\n",
    "    do_locations -= 1\n",
    "    np.add.at(adj_matrix, (pu_locations, do_locations), 1)\n",
    "    np.add.at(adj_matrix, (do_locations, pu_locations), 1)\n",
    "\n",
    "    return adj_matrix"
   ]
  },
  {
   "cell_type": "markdown",
   "id": "e16c361c",
   "metadata": {},
   "source": [
    "### Spectral Clustering"
   ]
  },
  {
   "cell_type": "code",
   "execution_count": 12,
   "id": "d1f71948",
   "metadata": {},
   "outputs": [],
   "source": [
    "def spec_clustering(adj_mat, n_clusters):\n",
    "    clustering = SpectralClustering(n_clusters=n_clusters, affinity='precomputed', random_state=6740)\n",
    "    \n",
    "    labels = clustering.fit_predict(adj_mat)\n",
    "    \n",
    "    #ties the cluster labels back to the taxi zones\n",
    "    location_ids = np.arange(1, 264)\n",
    "    cluster_df = pd.DataFrame({\n",
    "    'LocationID': location_ids,\n",
    "    'Cluster': labels\n",
    "    })\n",
    "    \n",
    "    zone_clusters = pd.merge(taxi_zones, cluster_df, on='LocationID', how='inner')\n",
    "    zone_clusters = zone_clusters[['LocationID', 'Zone', 'Cluster']]\n",
    "    return zone_clusters"
   ]
  },
  {
   "cell_type": "markdown",
   "id": "a31ac5a0",
   "metadata": {},
   "source": [
    "### Visualize Spectral Clustering on a map"
   ]
  },
  {
   "cell_type": "code",
   "execution_count": 13,
   "id": "452ff6c7",
   "metadata": {},
   "outputs": [],
   "source": [
    "def vis_clustering(zones_gdf, clusters, num_clusters, window_of_interest):\n",
    "    zones_with_clusters = zones_gdf.merge(clusters, on=\"LocationID\")\n",
    "    fig, ax = plt.subplots(figsize=(10, 10))\n",
    "    zones_with_clusters.plot(column='Cluster', ax=ax, legend=False, cmap='tab20', edgecolor='black', linewidth = 0.7)\n",
    "    ax.set_title(f\"Spectral Clustering of NYC Zones by Uber Ride Patterns\\n{window_of_interest}\\nNumber of clusters = {num_clusters}\", fontsize=14)\n",
    "    ax.axis('off')\n",
    "    \n",
    "    handles = []\n",
    "    for cluster_value in np.unique(zones_with_clusters['Cluster']):\n",
    "        color = plt.cm.tab20(cluster_value / float(np.max(zones_with_clusters['Cluster'])))\n",
    "        handle = plt.Line2D([0], [0], marker='o', color='w', markerfacecolor=color, markersize=10, label=str(cluster_value))\n",
    "        handles.append(handle)\n",
    "\n",
    "    ax.legend(handles=handles, title=\"Cluster Group\", bbox_to_anchor=(1, 0.5), loc='center left')\n",
    "    plt.tight_layout()\n",
    "    \n",
    "    base_dir = \"plots\"\n",
    "    subfolder = os.path.join(base_dir, window_of_interest, \"Map Images\")\n",
    "    os.makedirs(subfolder, exist_ok=True)\n",
    "    plot_filename = f\"{window_of_interest}_with_{num_clusters}_clusters_map.png\"\n",
    "    plot_path = os.path.join(subfolder, plot_filename)\n",
    "    plt.savefig(plot_path, dpi=300)\n",
    "    plt.close()\n",
    "\n",
    "    print(f\"Map saved as {plot_path}\")"
   ]
  },
  {
   "cell_type": "markdown",
   "id": "869926b9",
   "metadata": {},
   "source": [
    "### Visualize Spectral Clustering as a network"
   ]
  },
  {
   "cell_type": "code",
   "execution_count": 14,
   "id": "02ecf0ea",
   "metadata": {},
   "outputs": [],
   "source": [
    "def plot_cluster_network(adj_matrix, cluster_labels, window_of_interest, num_clusters, focus_on_lcc=True):\n",
    "    G = nx.Graph()\n",
    "    num_nodes = adj_matrix.shape[0]\n",
    "\n",
    "    if isinstance(cluster_labels, pd.DataFrame):\n",
    "        node_names = cluster_labels.iloc[:, 1]  #Column 1 for node names\n",
    "        cluster_labels = cluster_labels.iloc[:, 2]  #Column 2 for cluster labels\n",
    "\n",
    "    cluster_labels = cluster_labels.fillna(-1).astype(int)\n",
    "    \n",
    "    unique_clusters = sorted(cluster_labels.unique())\n",
    "    cluster_to_index = {label: idx for idx, label in enumerate(unique_clusters)}\n",
    "    \n",
    "    for i in range(num_nodes):\n",
    "        original_cluster = cluster_labels.iloc[i]\n",
    "        G.add_node(node_names.iloc[i], cluster=cluster_to_index[original_cluster])\n",
    "\n",
    "    #add edges\n",
    "    for i in range(num_nodes):\n",
    "        for j in range(i+1, num_nodes):\n",
    "            weight = adj_matrix[i, j]\n",
    "            if weight > 0:\n",
    "                G.add_edge(node_names.iloc[i], node_names.iloc[j], weight=weight)\n",
    "\n",
    "    if focus_on_lcc:\n",
    "        largest_cc = max(nx.connected_components(G), key=len)\n",
    "        G = G.subgraph(largest_cc).copy()\n",
    "\n",
    "    pos = nx.spring_layout(G, seed=6740, k=20, scale=50, iterations=100)\n",
    "\n",
    "    clusters = nx.get_node_attributes(G, 'cluster')\n",
    "    cluster_indices = np.array(list(clusters.values()))\n",
    "    \n",
    "    #color palette for clusters\n",
    "    color_palette = plt.cm.tab10(np.linspace(0, 1, len(unique_clusters)))\n",
    "    node_colors = [color_palette[clusters[node]] for node in G.nodes]\n",
    "\n",
    "    # --- Plot with labels ---\n",
    "    fig, ax = plt.subplots(figsize=(14, 14))\n",
    "    nx.draw_networkx_nodes(G, pos, node_color=node_colors, node_size=100, alpha=1, ax=ax)\n",
    "    nx.draw_networkx_edges(G, pos, alpha=0.1, width=0.1, ax=ax)\n",
    "    \n",
    "    #use the node names for labels\n",
    "    node_labels = {node: node for node in G.nodes}\n",
    "    nx.draw_networkx_labels(G, pos, labels=node_labels, font_size=5, ax=ax)  # Adjusted font size for readability\n",
    "    ax.set_title(f\"Spectral Clustering of NYC Taxi Zones as Network\\n{window_of_interest}\\nClusters = {num_clusters}\", fontsize=16)\n",
    "    ax.axis(\"off\")\n",
    "\n",
    "    #add legend for clusters\n",
    "    handles = []\n",
    "    for cluster_idx, cluster_name in enumerate(unique_clusters):\n",
    "        handle = plt.Line2D([0], [0], marker='o', color='w', label=str(cluster_name), \n",
    "                             markerfacecolor=color_palette[cluster_idx], markersize=10)\n",
    "        handles.append(handle)\n",
    "\n",
    "    ax.legend(handles=handles, title=\"Cluster Group\", bbox_to_anchor=(1, 0.5), loc='center left')\n",
    "\n",
    "    #save plot with labels\n",
    "    base_dir = \"plots\"\n",
    "    subfolder = os.path.join(base_dir, window_of_interest, \"Network Images\")\n",
    "    os.makedirs(subfolder, exist_ok=True)\n",
    "    filename_labels = f\"{window_of_interest}_with_{num_clusters}_clusters_network_labels.png\"\n",
    "    plt.savefig(os.path.join(subfolder, filename_labels), dpi=300, bbox_inches=\"tight\")\n",
    "    plt.close()\n",
    "\n",
    "    # --- Plot without labels ---\n",
    "    fig, ax = plt.subplots(figsize=(14, 14))\n",
    "    nx.draw_networkx_nodes(G, pos, node_color=node_colors, node_size=100, alpha=1, ax=ax)\n",
    "    nx.draw_networkx_edges(G, pos, alpha=0.1, width=0.1, ax=ax)\n",
    "    ax.set_title(f\"Spectral Clustering of NYC Taxi Zones as Network\\n{window_of_interest}\\nClusters = {num_clusters}\", fontsize=16)\n",
    "    ax.axis(\"off\")\n",
    "\n",
    "    #add legend for clusters\n",
    "    ax.legend(handles=handles, title=\"Cluster Group\", bbox_to_anchor=(1, 0.5), loc='center left')\n",
    "\n",
    "    #aave plot without labels\n",
    "    filename_no_labels = f\"{window_of_interest}_with_{num_clusters}_clusters_network.png\"\n",
    "    plt.savefig(os.path.join(subfolder, filename_no_labels), dpi=300, bbox_inches=\"tight\")\n",
    "    plt.close()"
   ]
  },
  {
   "cell_type": "code",
   "execution_count": 15,
   "id": "ff6d7583",
   "metadata": {},
   "outputs": [],
   "source": [
    "def plot_cluster_network_small_data(adj_matrix, cluster_labels, window_of_interest, num_clusters, focus_on_lcc=True):\n",
    "    G = nx.Graph()\n",
    "    num_nodes = adj_matrix.shape[0]\n",
    "\n",
    "    if isinstance(cluster_labels, pd.DataFrame):\n",
    "        node_names = cluster_labels.iloc[:, 1]  #Column 1 for node names\n",
    "        cluster_labels = cluster_labels.iloc[:, 2]  #Column 2 for cluster labels\n",
    "\n",
    "    cluster_labels = cluster_labels.fillna(-1).astype(int)\n",
    "    \n",
    "    unique_clusters = sorted(cluster_labels.unique())\n",
    "    cluster_to_index = {label: idx for idx, label in enumerate(unique_clusters)}\n",
    "    \n",
    "    for i in range(num_nodes):\n",
    "        original_cluster = cluster_labels.iloc[i]\n",
    "        G.add_node(node_names.iloc[i], cluster=cluster_to_index[original_cluster])\n",
    "\n",
    "    #add edges\n",
    "    for i in range(num_nodes):\n",
    "        for j in range(i+1, num_nodes):\n",
    "            weight = adj_matrix[i, j]\n",
    "            if weight > 0:\n",
    "                G.add_edge(node_names.iloc[i], node_names.iloc[j], weight=weight)\n",
    "\n",
    "    if focus_on_lcc:\n",
    "        largest_cc = max(nx.connected_components(G), key=len)\n",
    "        G = G.subgraph(largest_cc).copy()\n",
    "\n",
    "    #pos = nx.spring_layout(G, seed=6740, k=.5, scale=30, iterations=30) # use for post-NYE\n",
    "    pos = nx.spring_layout(G, seed=6740, k=2, scale=20, iterations=30) # use for US Open, XMAS\n",
    "\n",
    "    clusters = nx.get_node_attributes(G, 'cluster')\n",
    "    cluster_indices = np.array(list(clusters.values()))\n",
    "    \n",
    "    #color palette for clusters\n",
    "    color_palette = plt.cm.tab10(np.linspace(0, 1, len(unique_clusters)))\n",
    "    node_colors = [color_palette[clusters[node]] for node in G.nodes]\n",
    "\n",
    "    # --- Plot with labels ---\n",
    "    fig, ax = plt.subplots(figsize=(14, 14))\n",
    "    nx.draw_networkx_nodes(G, pos, node_color=node_colors, node_size=100, alpha=1, ax=ax)\n",
    "    nx.draw_networkx_edges(G, pos, alpha=0.1, width=0.1, ax=ax)\n",
    "    \n",
    "    #use the node names for labels\n",
    "    node_labels = {node: node for node in G.nodes}\n",
    "    nx.draw_networkx_labels(G, pos, labels=node_labels, font_size=5, ax=ax)  # Adjusted font size for readability\n",
    "    ax.set_title(f\"Spectral Clustering of NYC Taxi Zones as Network\\n{window_of_interest}\\nClusters = {num_clusters}\", fontsize=16)\n",
    "    ax.axis(\"off\")\n",
    "\n",
    "    #add legend for clusters\n",
    "    handles = []\n",
    "    for cluster_idx, cluster_name in enumerate(unique_clusters):\n",
    "        handle = plt.Line2D([0], [0], marker='o', color='w', label=str(cluster_name), \n",
    "                             markerfacecolor=color_palette[cluster_idx], markersize=10)\n",
    "        handles.append(handle)\n",
    "\n",
    "    ax.legend(handles=handles, title=\"Cluster Group\", bbox_to_anchor=(1, 0.5), loc='center left')\n",
    "\n",
    "    #save plot with labels\n",
    "    base_dir = \"plots\"\n",
    "    subfolder = os.path.join(base_dir, window_of_interest, \"Network Images\")\n",
    "    os.makedirs(subfolder, exist_ok=True)\n",
    "    filename_labels = f\"{window_of_interest}_with_{num_clusters}_clusters_network_labels.png\"\n",
    "    plt.savefig(os.path.join(subfolder, filename_labels), dpi=300, bbox_inches=\"tight\")\n",
    "    plt.close()\n",
    "\n",
    "    # --- Plot without labels ---\n",
    "    fig, ax = plt.subplots(figsize=(14, 14))\n",
    "    nx.draw_networkx_nodes(G, pos, node_color=node_colors, node_size=100, alpha=1, ax=ax)\n",
    "    nx.draw_networkx_edges(G, pos, alpha=0.1, width=0.1, ax=ax)\n",
    "    ax.set_title(f\"Spectral Clustering of NYC Taxi Zones as Network\\n{window_of_interest}\\nClusters = {num_clusters}\", fontsize=16)\n",
    "    ax.axis(\"off\")\n",
    "\n",
    "    #add legend for clusters\n",
    "    ax.legend(handles=handles, title=\"Cluster Group\", bbox_to_anchor=(1, 0.5), loc='center left')\n",
    "\n",
    "    #aave plot without labels\n",
    "    filename_no_labels = f\"{window_of_interest}_with_{num_clusters}_clusters_network.png\"\n",
    "    plt.savefig(os.path.join(subfolder, filename_no_labels), dpi=300, bbox_inches=\"tight\")\n",
    "    plt.close()"
   ]
  },
  {
   "cell_type": "markdown",
   "id": "d1b0fcc2",
   "metadata": {},
   "source": [
    "# Subdivide Data"
   ]
  },
  {
   "cell_type": "markdown",
   "id": "816d2b53",
   "metadata": {},
   "source": [
    "### Let's make sure we our method is correct!\n",
    "Period of Interest: January, 2023"
   ]
  },
  {
   "cell_type": "code",
   "execution_count": 16,
   "id": "980c69fe",
   "metadata": {},
   "outputs": [],
   "source": [
    "start = pd.to_datetime(\"2023-01-01 00:00:00\")\n",
    "end = pd.to_datetime(\"2023-02-01 00:00:00\")\n",
    "\n",
    "jan_df = df_2023[(df_2023[\"request_datetime\"] >= start) &\n",
    "                 (df_2023[\"request_datetime\"] < end)]"
   ]
  },
  {
   "cell_type": "code",
   "execution_count": 17,
   "id": "89c5ecd7",
   "metadata": {},
   "outputs": [
    {
     "name": "stdout",
     "output_type": "stream",
     "text": [
      "Map saved as plots\\January, 2023\\Map Images\\January, 2023_with_3_clusters_map.png\n",
      "Map saved as plots\\January, 2023\\Map Images\\January, 2023_with_4_clusters_map.png\n",
      "Map saved as plots\\January, 2023\\Map Images\\January, 2023_with_5_clusters_map.png\n",
      "Map saved as plots\\January, 2023\\Map Images\\January, 2023_with_6_clusters_map.png\n",
      "Map saved as plots\\January, 2023\\Map Images\\January, 2023_with_7_clusters_map.png\n",
      "Map saved as plots\\January, 2023\\Map Images\\January, 2023_with_8_clusters_map.png\n",
      "Map saved as plots\\January, 2023\\Map Images\\January, 2023_with_9_clusters_map.png\n",
      "Map saved as plots\\January, 2023\\Map Images\\January, 2023_with_10_clusters_map.png\n",
      "Map saved as plots\\January, 2023\\Map Images\\January, 2023_with_11_clusters_map.png\n",
      "Map saved as plots\\January, 2023\\Map Images\\January, 2023_with_12_clusters_map.png\n",
      "Map saved as plots\\January, 2023\\Map Images\\January, 2023_with_13_clusters_map.png\n",
      "Map saved as plots\\January, 2023\\Map Images\\January, 2023_with_14_clusters_map.png\n",
      "Map saved as plots\\January, 2023\\Map Images\\January, 2023_with_15_clusters_map.png\n",
      "Map saved as plots\\January, 2023\\Map Images\\January, 2023_with_16_clusters_map.png\n",
      "Map saved as plots\\January, 2023\\Map Images\\January, 2023_with_17_clusters_map.png\n",
      "Map saved as plots\\January, 2023\\Map Images\\January, 2023_with_18_clusters_map.png\n",
      "Map saved as plots\\January, 2023\\Map Images\\January, 2023_with_19_clusters_map.png\n",
      "Map saved as plots\\January, 2023\\Map Images\\January, 2023_with_20_clusters_map.png\n"
     ]
    }
   ],
   "source": [
    "for num_clusters in range(3, 21):\n",
    "    df_copy = jan_df.copy()\n",
    "    period_of_interest = \"January, 2023\"\n",
    "    adj_mat = adjacency_matrix(df_copy)\n",
    "    clusters = spec_clustering(adj_mat, num_clusters)\n",
    "    vis_clustering(zones_gdf, clusters, num_clusters, period_of_interest)\n",
    "    plot_cluster_network(adj_mat, clusters, period_of_interest, num_clusters)\n",
    "del jan_df\n",
    "del df_copy"
   ]
  },
  {
   "cell_type": "markdown",
   "id": "bcb31642",
   "metadata": {},
   "source": [
    "### Peak tourist season: December\n",
    "Period of Interest: December, 2023"
   ]
  },
  {
   "cell_type": "code",
   "execution_count": 24,
   "id": "7b191f26",
   "metadata": {},
   "outputs": [],
   "source": [
    "start = pd.to_datetime(\"2023-12-01 00:00:00\")\n",
    "end = pd.to_datetime(\"2023-12-31 00:00:00\")\n",
    "\n",
    "dec_df = df_2023[(df_2023[\"request_datetime\"] >= start) &\n",
    "                 (df_2023[\"request_datetime\"] < end)]"
   ]
  },
  {
   "cell_type": "code",
   "execution_count": 26,
   "id": "778bbc8e",
   "metadata": {},
   "outputs": [
    {
     "name": "stdout",
     "output_type": "stream",
     "text": [
      "Map saved as plots\\December, 2023\\Map Images\\December, 2023_with_3_clusters_map.png\n",
      "Map saved as plots\\December, 2023\\Map Images\\December, 2023_with_4_clusters_map.png\n",
      "Map saved as plots\\December, 2023\\Map Images\\December, 2023_with_5_clusters_map.png\n",
      "Map saved as plots\\December, 2023\\Map Images\\December, 2023_with_6_clusters_map.png\n",
      "Map saved as plots\\December, 2023\\Map Images\\December, 2023_with_7_clusters_map.png\n",
      "Map saved as plots\\December, 2023\\Map Images\\December, 2023_with_8_clusters_map.png\n",
      "Map saved as plots\\December, 2023\\Map Images\\December, 2023_with_9_clusters_map.png\n",
      "Map saved as plots\\December, 2023\\Map Images\\December, 2023_with_10_clusters_map.png\n",
      "Map saved as plots\\December, 2023\\Map Images\\December, 2023_with_11_clusters_map.png\n",
      "Map saved as plots\\December, 2023\\Map Images\\December, 2023_with_12_clusters_map.png\n",
      "Map saved as plots\\December, 2023\\Map Images\\December, 2023_with_13_clusters_map.png\n",
      "Map saved as plots\\December, 2023\\Map Images\\December, 2023_with_14_clusters_map.png\n",
      "Map saved as plots\\December, 2023\\Map Images\\December, 2023_with_15_clusters_map.png\n",
      "Map saved as plots\\December, 2023\\Map Images\\December, 2023_with_16_clusters_map.png\n",
      "Map saved as plots\\December, 2023\\Map Images\\December, 2023_with_17_clusters_map.png\n",
      "Map saved as plots\\December, 2023\\Map Images\\December, 2023_with_18_clusters_map.png\n",
      "Map saved as plots\\December, 2023\\Map Images\\December, 2023_with_19_clusters_map.png\n",
      "Map saved as plots\\December, 2023\\Map Images\\December, 2023_with_20_clusters_map.png\n"
     ]
    }
   ],
   "source": [
    "for num_clusters in range(3, 21):\n",
    "    df_copy = dec_df.copy()\n",
    "    period_of_interest = \"December, 2023\"\n",
    "    adj_mat = adjacency_matrix(df_copy)\n",
    "    clusters = spec_clustering(adj_mat, num_clusters)\n",
    "    vis_clustering(zones_gdf, clusters, num_clusters, period_of_interest)\n",
    "    plot_cluster_network(adj_mat, clusters, period_of_interest, num_clusters)\n",
    "del dec_df\n",
    "del df_copy"
   ]
  },
  {
   "cell_type": "markdown",
   "id": "ba97f8c1",
   "metadata": {},
   "source": [
    "### Weekday Morning Commute\n",
    "\n",
    "We look at the weekday morning commute (7 am to 10 am)"
   ]
  },
  {
   "cell_type": "code",
   "execution_count": null,
   "id": "7055dd37",
   "metadata": {},
   "outputs": [],
   "source": [
    "start_time = pd.to_datetime(\"07:00:00\").time()\n",
    "end_time = pd.to_datetime(\"10:00:00\").time()\n",
    "\n",
    "morning_commute = df_2023[\n",
    "    (df_2023[\"request_datetime\"].dt.time >= start_time) & \n",
    "    (df_2023[\"request_datetime\"].dt.time <= end_time) & \n",
    "    (df_2023['day_of_week'].isin(['Monday', 'Tuesday', 'Wednesday', 'Thursday', 'Friday']))\n",
    "]"
   ]
  },
  {
   "cell_type": "code",
   "execution_count": null,
   "id": "f6a65cf5",
   "metadata": {},
   "outputs": [],
   "source": [
    "for num_clusters in range(3, 21):\n",
    "    df_copy = morning_commute.copy()\n",
    "    period_of_interest = \"Morning Commute, 7 AM - 10 AM on weekdays\"\n",
    "    adj_mat = adjacency_matrix(df_copy)\n",
    "    clusters = spec_clustering(adj_mat, num_clusters)\n",
    "    vis_clustering(zones_gdf, clusters, num_clusters, period_of_interest)\n",
    "    plot_cluster_network(adj_mat, clusters, period_of_interest, num_clusters)\n",
    "del morning_commute\n",
    "del df_copy"
   ]
  },
  {
   "cell_type": "markdown",
   "id": "675dcbb6",
   "metadata": {},
   "source": [
    "## Post NYE (Jan 1st, Midnight - 3AM)"
   ]
  },
  {
   "cell_type": "code",
   "execution_count": null,
   "id": "d20b520b",
   "metadata": {},
   "outputs": [],
   "source": [
    "start = pd.to_datetime(\"2023-01-01 00:00:00\")\n",
    "end = pd.to_datetime(\"2023-01-01 03:00:00\")\n",
    "\n",
    "NYE_df = df_2023[(df_2023[\"request_datetime\"] >= start) &\n",
    "                 (df_2023[\"request_datetime\"] < end)]"
   ]
  },
  {
   "cell_type": "code",
   "execution_count": null,
   "id": "9033954f",
   "metadata": {},
   "outputs": [],
   "source": [
    "for num_clusters in range(3, 21):\n",
    "    df_copy = NYE_df.copy()\n",
    "    period_of_interest = \"After New Year's Eve, January 1st; Midnight - 3 AM\"\n",
    "    adj_mat = adjacency_matrix(df_copy)\n",
    "    clusters = spec_clustering(adj_mat, num_clusters)\n",
    "    vis_clustering(zones_gdf, clusters, num_clusters, period_of_interest)\n",
    "    plot_cluster_network_small_data(adj_mat, clusters, period_of_interest, num_clusters)\n",
    "del NYE_df\n",
    "del df_copy"
   ]
  },
  {
   "cell_type": "markdown",
   "id": "e37ce5cd",
   "metadata": {},
   "source": [
    "## Evening Commute on Weekdays"
   ]
  },
  {
   "cell_type": "code",
   "execution_count": null,
   "id": "5539b3e7",
   "metadata": {},
   "outputs": [],
   "source": [
    "start_time = pd.to_datetime(\"17:00:00\").time()\n",
    "end_time = pd.to_datetime(\"19:00:00\").time()\n",
    "\n",
    "evening_commute = df_2023[\n",
    "    (df_2023[\"request_datetime\"].dt.time >= start_time) & \n",
    "    (df_2023[\"request_datetime\"].dt.time <= end_time) & \n",
    "    (df_2023['day_of_week'].isin(['Monday', 'Tuesday', 'Wednesday', 'Thursday', 'Friday']))\n",
    "]"
   ]
  },
  {
   "cell_type": "code",
   "execution_count": null,
   "id": "b975d3cf",
   "metadata": {},
   "outputs": [],
   "source": [
    "for num_clusters in range(3, 21):\n",
    "    df_copy = evening_commute.copy()\n",
    "    period_of_interest = \"Evening Commute, 5 PM - 7 PM on weekdays\"\n",
    "    adj_mat = adjacency_matrix(df_copy)\n",
    "    clusters = spec_clustering(adj_mat, num_clusters)\n",
    "    vis_clustering(zones_gdf, clusters, num_clusters, period_of_interest)\n",
    "    plot_cluster_network(adj_mat, clusters, period_of_interest, num_clusters)\n",
    "del evening_commute\n",
    "del df_copy"
   ]
  },
  {
   "cell_type": "markdown",
   "id": "924acab2",
   "metadata": {},
   "source": [
    "## Christmas Day"
   ]
  },
  {
   "cell_type": "code",
   "execution_count": null,
   "id": "32ceb2dd",
   "metadata": {},
   "outputs": [],
   "source": [
    "start = pd.to_datetime(\"2023-12-25 00:00:00\")\n",
    "end = pd.to_datetime(\"2023-12-26 00:00:00\")\n",
    "\n",
    "xmas_df = df_2023[(df_2023[\"request_datetime\"] >= start) &\n",
    "                 (df_2023[\"request_datetime\"] < end)]"
   ]
  },
  {
   "cell_type": "code",
   "execution_count": null,
   "id": "36c20074",
   "metadata": {},
   "outputs": [],
   "source": [
    "for num_clusters in range(3, 21):\n",
    "    df_copy = xmas_df.copy()\n",
    "    period_of_interest = \"Christmas Day\"\n",
    "    adj_mat = adjacency_matrix(df_copy)\n",
    "    clusters = spec_clustering(adj_mat, num_clusters)\n",
    "    vis_clustering(zones_gdf, clusters, num_clusters, period_of_interest)\n",
    "    plot_cluster_network_small_data(adj_mat, clusters, period_of_interest, num_clusters)\n",
    "del xmas_df\n",
    "del df_copy"
   ]
  },
  {
   "cell_type": "markdown",
   "id": "a4105b03",
   "metadata": {},
   "source": [
    "## Weekend Nights\n",
    "The hypothesis here is that the Friday and Saturday nights, as people are coming back from bars and clubs, we may see different connectivity patterns than during normal hours"
   ]
  },
  {
   "cell_type": "code",
   "execution_count": null,
   "id": "f5c8a12c",
   "metadata": {},
   "outputs": [],
   "source": [
    "start_time = pd.to_datetime(\"00:00:00\").time()\n",
    "end_time = pd.to_datetime(\"04:00:00\").time()\n",
    "\n",
    "post_club_df = df_2023[\n",
    "    (df_2023[\"request_datetime\"].dt.time >= start_time) & \n",
    "    (df_2023[\"request_datetime\"].dt.time <= end_time) & \n",
    "    (df_2023['day_of_week'].isin(['Saturday', 'Sunday']))\n",
    "]"
   ]
  },
  {
   "cell_type": "code",
   "execution_count": null,
   "id": "c84c620c",
   "metadata": {},
   "outputs": [],
   "source": [
    "for num_clusters in range(3, 21):\n",
    "    df_copy = post_club_df.copy()\n",
    "    period_of_interest = \"Late nights on weekends, 12 AM - 4 AM\"\n",
    "    adj_mat = adjacency_matrix(df_copy)\n",
    "    clusters = spec_clustering(adj_mat, num_clusters)\n",
    "    vis_clustering(zones_gdf, clusters, num_clusters, period_of_interest)\n",
    "    plot_cluster_network(adj_mat, clusters, period_of_interest, num_clusters)\n",
    "del post_club_df\n",
    "del df_copy"
   ]
  },
  {
   "cell_type": "markdown",
   "id": "3c2d419c",
   "metadata": {},
   "source": [
    "## Off-peak Hours\n",
    "Let's see how the city is connected between 3 and 5 am on weekdays, when we see the least rides."
   ]
  },
  {
   "cell_type": "code",
   "execution_count": null,
   "id": "572cf8c9",
   "metadata": {},
   "outputs": [],
   "source": [
    "start_time = pd.to_datetime(\"03:00:00\").time()\n",
    "end_time = pd.to_datetime(\"05:00:00\").time()\n",
    "\n",
    "off_peak_df = df_2023[\n",
    "    (df_2023[\"request_datetime\"].dt.time >= start_time) & \n",
    "    (df_2023[\"request_datetime\"].dt.time <= end_time) & \n",
    "    (df_2023['day_of_week'].isin(['Monday', 'Tuesday', 'Wednesday', 'Thursday', 'Friday']))\n",
    "]"
   ]
  },
  {
   "cell_type": "code",
   "execution_count": null,
   "id": "6f633c9f",
   "metadata": {},
   "outputs": [],
   "source": [
    "for num_clusters in range(3, 21):\n",
    "    df_copy = off_peak_df.copy()\n",
    "    period_of_interest = \"Off-Peak Hours, 3 AM - 5 AM on Weekdays\"\n",
    "    adj_mat = adjacency_matrix(df_copy)\n",
    "    clusters = spec_clustering(adj_mat, num_clusters)\n",
    "    vis_clustering(zones_gdf, clusters, num_clusters, period_of_interest)\n",
    "    plot_cluster_network(adj_mat, clusters, period_of_interest, num_clusters)\n",
    "del off_peak_df\n",
    "del df_copy"
   ]
  },
  {
   "cell_type": "markdown",
   "id": "75830460",
   "metadata": {},
   "source": [
    "### US Open Tennis Tournament"
   ]
  },
  {
   "cell_type": "code",
   "execution_count": 18,
   "id": "3ae49ad2",
   "metadata": {},
   "outputs": [],
   "source": [
    "start = pd.to_datetime(\"2023-08-28 00:00:00\")\n",
    "end = pd.to_datetime(\"2023-09-11 00:00:00\")\n",
    "\n",
    "us_open_df = df_2023[(df_2023[\"request_datetime\"] >= start) &\n",
    "                 (df_2023[\"request_datetime\"] < end)]"
   ]
  },
  {
   "cell_type": "code",
   "execution_count": 19,
   "id": "a10cc55d",
   "metadata": {
    "scrolled": true
   },
   "outputs": [
    {
     "name": "stdout",
     "output_type": "stream",
     "text": [
      "Map saved as plots\\US Open Days, Aug 28 - Sep 10\\Map Images\\US Open Days, Aug 28 - Sep 10_with_3_clusters_map.png\n",
      "Map saved as plots\\US Open Days, Aug 28 - Sep 10\\Map Images\\US Open Days, Aug 28 - Sep 10_with_4_clusters_map.png\n",
      "Map saved as plots\\US Open Days, Aug 28 - Sep 10\\Map Images\\US Open Days, Aug 28 - Sep 10_with_5_clusters_map.png\n",
      "Map saved as plots\\US Open Days, Aug 28 - Sep 10\\Map Images\\US Open Days, Aug 28 - Sep 10_with_6_clusters_map.png\n",
      "Map saved as plots\\US Open Days, Aug 28 - Sep 10\\Map Images\\US Open Days, Aug 28 - Sep 10_with_7_clusters_map.png\n",
      "Map saved as plots\\US Open Days, Aug 28 - Sep 10\\Map Images\\US Open Days, Aug 28 - Sep 10_with_8_clusters_map.png\n",
      "Map saved as plots\\US Open Days, Aug 28 - Sep 10\\Map Images\\US Open Days, Aug 28 - Sep 10_with_9_clusters_map.png\n",
      "Map saved as plots\\US Open Days, Aug 28 - Sep 10\\Map Images\\US Open Days, Aug 28 - Sep 10_with_10_clusters_map.png\n",
      "Map saved as plots\\US Open Days, Aug 28 - Sep 10\\Map Images\\US Open Days, Aug 28 - Sep 10_with_11_clusters_map.png\n",
      "Map saved as plots\\US Open Days, Aug 28 - Sep 10\\Map Images\\US Open Days, Aug 28 - Sep 10_with_12_clusters_map.png\n",
      "Map saved as plots\\US Open Days, Aug 28 - Sep 10\\Map Images\\US Open Days, Aug 28 - Sep 10_with_13_clusters_map.png\n",
      "Map saved as plots\\US Open Days, Aug 28 - Sep 10\\Map Images\\US Open Days, Aug 28 - Sep 10_with_14_clusters_map.png\n",
      "Map saved as plots\\US Open Days, Aug 28 - Sep 10\\Map Images\\US Open Days, Aug 28 - Sep 10_with_15_clusters_map.png\n",
      "Map saved as plots\\US Open Days, Aug 28 - Sep 10\\Map Images\\US Open Days, Aug 28 - Sep 10_with_16_clusters_map.png\n",
      "Map saved as plots\\US Open Days, Aug 28 - Sep 10\\Map Images\\US Open Days, Aug 28 - Sep 10_with_17_clusters_map.png\n",
      "Map saved as plots\\US Open Days, Aug 28 - Sep 10\\Map Images\\US Open Days, Aug 28 - Sep 10_with_18_clusters_map.png\n",
      "Map saved as plots\\US Open Days, Aug 28 - Sep 10\\Map Images\\US Open Days, Aug 28 - Sep 10_with_19_clusters_map.png\n",
      "Map saved as plots\\US Open Days, Aug 28 - Sep 10\\Map Images\\US Open Days, Aug 28 - Sep 10_with_20_clusters_map.png\n"
     ]
    }
   ],
   "source": [
    "for num_clusters in range(3, 21):\n",
    "    df_copy = us_open_df.copy()\n",
    "    period_of_interest = \"US Open Days, Aug 28 - Sep 10\"\n",
    "    adj_mat = adjacency_matrix(df_copy)\n",
    "    clusters = spec_clustering(adj_mat, num_clusters)\n",
    "    vis_clustering(zones_gdf, clusters, num_clusters, period_of_interest)\n",
    "    plot_cluster_network_small_data(adj_mat, clusters, period_of_interest, num_clusters)\n",
    "del us_open_df\n",
    "del df_copy"
   ]
  },
  {
   "cell_type": "markdown",
   "id": "6f6c6108",
   "metadata": {},
   "source": [
    "### 2 Weeks After US Open Tennis Tournament"
   ]
  },
  {
   "cell_type": "code",
   "execution_count": 27,
   "id": "506eb8d8",
   "metadata": {},
   "outputs": [],
   "source": [
    "start = pd.to_datetime(\"2023-09-11 00:00:00\")\n",
    "end = pd.to_datetime(\"2023-09-25 00:00:00\")\n",
    "\n",
    "post_us_open_df = df_2023[(df_2023[\"request_datetime\"] >= start) &\n",
    "                 (df_2023[\"request_datetime\"] < end)]"
   ]
  },
  {
   "cell_type": "code",
   "execution_count": 28,
   "id": "0fa04ffa",
   "metadata": {},
   "outputs": [
    {
     "name": "stdout",
     "output_type": "stream",
     "text": [
      "Map saved as plots\\Two weeks after US Open, Sep 11 - Sep 24\\Map Images\\Two weeks after US Open, Sep 11 - Sep 24_with_3_clusters_map.png\n",
      "Map saved as plots\\Two weeks after US Open, Sep 11 - Sep 24\\Map Images\\Two weeks after US Open, Sep 11 - Sep 24_with_4_clusters_map.png\n",
      "Map saved as plots\\Two weeks after US Open, Sep 11 - Sep 24\\Map Images\\Two weeks after US Open, Sep 11 - Sep 24_with_5_clusters_map.png\n",
      "Map saved as plots\\Two weeks after US Open, Sep 11 - Sep 24\\Map Images\\Two weeks after US Open, Sep 11 - Sep 24_with_6_clusters_map.png\n",
      "Map saved as plots\\Two weeks after US Open, Sep 11 - Sep 24\\Map Images\\Two weeks after US Open, Sep 11 - Sep 24_with_7_clusters_map.png\n",
      "Map saved as plots\\Two weeks after US Open, Sep 11 - Sep 24\\Map Images\\Two weeks after US Open, Sep 11 - Sep 24_with_8_clusters_map.png\n",
      "Map saved as plots\\Two weeks after US Open, Sep 11 - Sep 24\\Map Images\\Two weeks after US Open, Sep 11 - Sep 24_with_9_clusters_map.png\n",
      "Map saved as plots\\Two weeks after US Open, Sep 11 - Sep 24\\Map Images\\Two weeks after US Open, Sep 11 - Sep 24_with_10_clusters_map.png\n",
      "Map saved as plots\\Two weeks after US Open, Sep 11 - Sep 24\\Map Images\\Two weeks after US Open, Sep 11 - Sep 24_with_11_clusters_map.png\n",
      "Map saved as plots\\Two weeks after US Open, Sep 11 - Sep 24\\Map Images\\Two weeks after US Open, Sep 11 - Sep 24_with_12_clusters_map.png\n",
      "Map saved as plots\\Two weeks after US Open, Sep 11 - Sep 24\\Map Images\\Two weeks after US Open, Sep 11 - Sep 24_with_13_clusters_map.png\n",
      "Map saved as plots\\Two weeks after US Open, Sep 11 - Sep 24\\Map Images\\Two weeks after US Open, Sep 11 - Sep 24_with_14_clusters_map.png\n",
      "Map saved as plots\\Two weeks after US Open, Sep 11 - Sep 24\\Map Images\\Two weeks after US Open, Sep 11 - Sep 24_with_15_clusters_map.png\n",
      "Map saved as plots\\Two weeks after US Open, Sep 11 - Sep 24\\Map Images\\Two weeks after US Open, Sep 11 - Sep 24_with_16_clusters_map.png\n",
      "Map saved as plots\\Two weeks after US Open, Sep 11 - Sep 24\\Map Images\\Two weeks after US Open, Sep 11 - Sep 24_with_17_clusters_map.png\n",
      "Map saved as plots\\Two weeks after US Open, Sep 11 - Sep 24\\Map Images\\Two weeks after US Open, Sep 11 - Sep 24_with_18_clusters_map.png\n",
      "Map saved as plots\\Two weeks after US Open, Sep 11 - Sep 24\\Map Images\\Two weeks after US Open, Sep 11 - Sep 24_with_19_clusters_map.png\n",
      "Map saved as plots\\Two weeks after US Open, Sep 11 - Sep 24\\Map Images\\Two weeks after US Open, Sep 11 - Sep 24_with_20_clusters_map.png\n"
     ]
    }
   ],
   "source": [
    "for num_clusters in range(3, 21):\n",
    "    df_copy = post_us_open_df.copy()\n",
    "    period_of_interest = \"Two weeks after US Open, Sep 11 - Sep 24\"\n",
    "    adj_mat = adjacency_matrix(df_copy)\n",
    "    clusters = spec_clustering(adj_mat, num_clusters)\n",
    "    vis_clustering(zones_gdf, clusters, num_clusters, period_of_interest)\n",
    "    plot_cluster_network_small_data(adj_mat, clusters, period_of_interest, num_clusters)\n",
    "del post_us_open_df\n",
    "del df_copy"
   ]
  },
  {
   "cell_type": "markdown",
   "id": "d38a2610",
   "metadata": {},
   "source": [
    "### All of 2023"
   ]
  },
  {
   "cell_type": "code",
   "execution_count": null,
   "id": "1c6d82a9",
   "metadata": {},
   "outputs": [],
   "source": [
    "for num_clusters in range(3, 21):\n",
    "    df_copy = df_2023.copy()\n",
    "    period_of_interest = \"All of 2023\"\n",
    "    adj_mat = adjacency_matrix(df_copy)\n",
    "    clusters = spec_clustering(adj_mat, num_clusters)\n",
    "    vis_clustering(zones_gdf, clusters, num_clusters, period_of_interest)\n",
    "    plot_cluster_network(adj_mat, clusters, period_of_interest, num_clusters)\n",
    "del df_copy"
   ]
  }
 ],
 "metadata": {
  "kernelspec": {
   "display_name": "Python 3 (ipykernel)",
   "language": "python",
   "name": "python3"
  },
  "language_info": {
   "codemirror_mode": {
    "name": "ipython",
    "version": 3
   },
   "file_extension": ".py",
   "mimetype": "text/x-python",
   "name": "python",
   "nbconvert_exporter": "python",
   "pygments_lexer": "ipython3",
   "version": "3.11.5"
  }
 },
 "nbformat": 4,
 "nbformat_minor": 5
}
